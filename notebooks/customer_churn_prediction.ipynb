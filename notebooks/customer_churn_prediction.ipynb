{
 "cells": [
  {
   "cell_type": "markdown",
   "metadata": {},
   "source": [
    "## Customer Churn Prediction - Telco\n",
    "\n",
    "### Business Understanding\n",
    "\n",
    "`Problem Statement:`\n",
    "\n",
    "`Goal:` To build a machine learning model that can predict churn\n",
    "\n",
    "Null Hypothesis:\n",
    "\n",
    "Alternate Hypothesis: \n",
    "\n"
   ]
  },
  {
   "cell_type": "code",
   "execution_count": null,
   "metadata": {},
   "outputs": [],
   "source": []
  }
 ],
 "metadata": {
  "kernelspec": {
   "display_name": "churn_venv",
   "language": "python",
   "name": "python3"
  },
  "language_info": {
   "name": "python",
   "version": "3.12.2"
  }
 },
 "nbformat": 4,
 "nbformat_minor": 2
}
