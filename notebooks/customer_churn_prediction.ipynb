{
 "cells": [
  {
   "cell_type": "markdown",
   "metadata": {},
   "source": [
    "## Customer Churn Prediction - Telco\n",
    "\n",
    "\n"
   ]
  },
  {
   "cell_type": "markdown",
   "metadata": {},
   "source": [
    "## 1.0 Business Understanding\n",
    "### 1.1 Introduction\n",
    "Customer churn  is a significant problem in the telecom industry as it results in reduced profit margin and negatively impacting long-term sustainability. \n",
    "Churn, which refers to customers discontinuing their service and moving to a competitor, can be driven by various factors such as pricing, customer service quality, network coverage, and the competitiveness of offerings. The implications of high churn rates are multifaceted:\n",
    "\n",
    "- Reduced Profit Margin: Acquiring new customers often costs more than retaining existing ones due to marketing expenses, promotional offers, and the operational costs of setting up new accounts. When customers leave, the company not only loses the revenue these customers would have generated but also the investment made in acquiring them.\n",
    "\n",
    "- Investment Recovery: Telecommunications companies make significant upfront investments in infrastructure and customer acquisition. Customer longevity is crucial for recovering these investments. High churn rates shorten the average customer lifespan, jeopardizing the return on these investments.\n",
    "\n",
    "- Brand Reputation: High churn rates can signal dissatisfaction, potentially damaging the company's reputation. This perception can make it more challenging to attract new customers and retain existing ones.\n",
    "\n",
    "- Operational Efficiency: High churn rates can lead to inefficiencies in resource allocation and operations. Companies may find themselves in a constant cycle of trying to replace lost customers, diverting resources from improving services and innovating."
   ]
  },
  {
   "cell_type": "markdown",
   "metadata": {},
   "source": [
    "### 1.2: Project Objective\n",
    "`Problem Statement:`\n",
    "\n",
    "`Goal:` To build a machine learning model that can predict churn\n",
    "\n",
    "Null Hypothesis: There is no significant correlation between pricing and customer churn\n",
    "\n",
    "Alternate Hypothesis: There is a statistically significant correlation between pricing and customer churn\n",
    "\n",
    "#### Analytical Questions\n",
    "1. Does npricing affect churn?\n",
    "2.  ?\n",
    "3. Which is feature have the strongest correlation to churn?\n",
    "4. ?\n",
    "5. ?\n",
    "6. ?\n",
    "\n",
    "#### Stakeholders\n",
    "- Telco\n",
    "- Vodafone"
   ]
  },
  {
   "cell_type": "markdown",
   "metadata": {},
   "source": [
    "## 2.0 Data Understanding 🔍\n",
    "The data for this project is in a csv format. The following describes the columns present in the data.\n",
    "\n",
    "- **Gender**: Whether the customer is a male or a female\n",
    "\n",
    "- **SeniorCitizen**: Whether a customer is a senior citizen or not\n",
    "\n",
    "- **Partner**: Whether the customer has a partner or not (Yes, No)\n",
    "\n",
    "- **Dependents**: Whether the customer has dependents or not (Yes, No)\n",
    "\n",
    "- **Tenure**: Number of months the customer has stayed with the company\n",
    "\n",
    "- **Phone Service**: Whether the customer has a phone service or not (Yes, No)\n",
    "\n",
    "- **MultipleLines**: Whether the customer has multiple lines or not\n",
    "\n",
    "- **InternetService**: Customer's internet service provider (DSL, Fiber Optic, No)\n",
    "\n",
    "- **OnlineSecurity**: Whether the customer has online security or not (Yes, No, No Internet)\n",
    "\n",
    "- **OnlineBackup**: Whether the customer has online backup or not (Yes, No, No Internet)\n",
    "\n",
    "- **DeviceProtection**: Whether the customer has device protection or not (Yes, No, No internet service)\n",
    "\n",
    "- **TechSupport**: Whether the customer has tech support or not (Yes, No, No internet)\n",
    "\n",
    "- **StreamingTV**: Whether the customer has streaming TV or not (Yes, No, No internet service)\n",
    "\n",
    "- **StreamingMovies**: Whether the customer has streaming movies or not (Yes, No, No Internet service)\n",
    "\n",
    "- **Contract**: The contract term of the customer (Month-to-Month, One year, Two year)\n",
    "\n",
    "- **PaperlessBilling**: Whether the customer has paperless billing or not (Yes, No)\n",
    "\n",
    "- **Payment Method**: The customer's payment method (Electronic check, mailed check, Bank transfer(automatic), Credit card(automatic))\n",
    "\n",
    "- **MonthlyCharges**: The amount charged to the customer monthly\n",
    "\n",
    "- **TotalCharges**: The total amount charged to the customer\n",
    "\n",
    "- **Churn**: Whether the customer churned or not (Yes or No)\n",
    "\n",
    "\n"
   ]
  },
  {
   "cell_type": "markdown",
   "metadata": {},
   "source": [
    "#### 2.1 Prerequisites"
   ]
  },
  {
   "cell_type": "markdown",
   "metadata": {},
   "source": [
    "- Doing necessary installations"
   ]
  },
  {
   "cell_type": "code",
   "execution_count": 2,
   "metadata": {},
   "outputs": [
    {
     "name": "stdout",
     "output_type": "stream",
     "text": [
      "Note: you may need to restart the kernel to use updated packages.\n"
     ]
    }
   ],
   "source": [
    "# Install necessary packages in quiet mode\n",
    "\n",
    "%pip install --quiet pandas matplotlib seaborn plotly pyodbc python-dotenv scikit-learn imbalanced-learn catboost lightgbm xgboost  "
   ]
  },
  {
   "cell_type": "markdown",
   "metadata": {},
   "source": [
    "- Import needed packages"
   ]
  },
  {
   "cell_type": "code",
   "execution_count": 2,
   "metadata": {},
   "outputs": [
    {
     "name": "stdout",
     "output_type": "stream",
     "text": [
      "🛬 Imported all packages. Warnings hidden. 👻\n"
     ]
    }
   ],
   "source": [
    "# Environmental variables\n",
    "from dotenv import dotenv_values \n",
    "\n",
    "# Microsoft Open Database Connectivity (ODBC) library\n",
    "import pyodbc \n",
    "\n",
    "# Data handling\n",
    "import numpy as np\n",
    "import pandas as pd \n",
    "               \n",
    "# Visualization\n",
    "import seaborn as sns\n",
    "import matplotlib.pyplot as plt\n",
    "import plotly.express as px\n",
    "import plotly.graph_objects as go\n",
    "\n",
    "# Statistical tests\n",
    "from scipy.stats import kruskal, mannwhitneyu\n",
    "from itertools import combinations\n",
    "\n",
    "# Feature Processing\n",
    "# from imblearn.over_sampling import SMOTE\n",
    "from sklearn.impute import SimpleImputer\n",
    "from sklearn.ensemble import ExtraTreesClassifier\n",
    "from sklearn.feature_selection import SelectKBest, chi2  # Univariate Selection using KBest\n",
    "from sklearn.model_selection import *  #cross_val_score, fbeta_score, KFold, make_scorer, train_test_split, RandomizedSearchCV\n",
    "from sklearn.preprocessing import MinMaxScaler, OneHotEncoder, FunctionTransformer\n",
    "from sklearn.pipeline import Pipeline, FeatureUnion\n",
    "from sklearn.compose import ColumnTransformer\n",
    "\n",
    "# Modelling\n",
    "from sklearn.linear_model import LogisticRegression\n",
    "from sklearn.ensemble import RandomForestClassifier\n",
    "from sklearn.tree import DecisionTreeClassifier\n",
    "from catboost import CatBoostClassifier\n",
    "import lightgbm as lgb\n",
    "from xgboost import XGBClassifier\n",
    "from sklearn.ensemble import AdaBoostClassifier\n",
    "\n",
    "# Evaluation - Cross Validation & Hyperparameters Fine-tuning \n",
    "from sklearn import metrics\n",
    "from sklearn.metrics import accuracy_score, precision_score, recall_score, f1_score, confusion_matrix, classification_report\n",
    "\n",
    "# Set pandas to display all columns\n",
    "pd.set_option(\"display.max_columns\", None)\n",
    "\n",
    "# Suppress the scientific notation\n",
    "pd.set_option(\"display.float_format\", lambda x: '%.2f' % x)\n",
    "\n",
    "# Disable warnings               \n",
    "import warnings\n",
    "warnings.filterwarnings('ignore')\n",
    "\n",
    "# Other packages\n",
    "import os, pickle\n",
    "\n",
    "print(\"🛬 Imported all packages.\", \"Warnings hidden. 👻\")"
   ]
  },
  {
   "cell_type": "markdown",
   "metadata": {},
   "source": []
  }
 ],
 "metadata": {
  "kernelspec": {
   "display_name": "churn_venv",
   "language": "python",
   "name": "python3"
  },
  "language_info": {
   "codemirror_mode": {
    "name": "ipython",
    "version": 3
   },
   "file_extension": ".py",
   "mimetype": "text/x-python",
   "name": "python",
   "nbconvert_exporter": "python",
   "pygments_lexer": "ipython3",
   "version": "3.12.2"
  }
 },
 "nbformat": 4,
 "nbformat_minor": 2
}
